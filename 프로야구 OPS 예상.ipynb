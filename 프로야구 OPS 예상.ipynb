{
  "nbformat": 4,
  "nbformat_minor": 0,
  "metadata": {
    "colab": {
      "name": "Untitled10.ipynb",
      "provenance": [],
      "collapsed_sections": [],
      "authorship_tag": "ABX9TyMEKb/0cqmzL0AXnLLqf3JB",
      "include_colab_link": true
    },
    "kernelspec": {
      "name": "ir",
      "display_name": "R"
    },
    "language_info": {
      "name": "R"
    }
  },
  "cells": [
    {
      "cell_type": "markdown",
      "metadata": {
        "id": "view-in-github",
        "colab_type": "text"
      },
      "source": [
        "<a href=\"https://colab.research.google.com/github/Son0208/prac_class/blob/main/%ED%94%84%EB%A1%9C%EC%95%BC%EA%B5%AC%20OPS%20%EC%98%88%EC%83%81.ipynb\" target=\"_parent\"><img src=\"https://colab.research.google.com/assets/colab-badge.svg\" alt=\"Open In Colab\"/></a>"
      ]
    },
    {
      "cell_type": "markdown",
      "metadata": {
        "id": "ydMmrQndp8CZ"
      },
      "source": [
        "프로야구 타자 데이터를 통한 OPS 예측"
      ]
    },
    {
      "cell_type": "code",
      "metadata": {
        "id": "3UPJSkCDqEmW"
      },
      "source": [
        "library(knitr)\n",
        "library(markdown)\n",
        "knit(\"rchunk1.Rmd)\n",
        "markdownToHTML(\"rchunk1.md\")"
      ],
      "execution_count": null,
      "outputs": []
    },
    {
      "cell_type": "markdown",
      "metadata": {
        "id": "_aBz8O7kp8E2"
      },
      "source": [
        "1. Data\n",
        "\n",
        "Regular_Season_Batter.csv  (출처:https://dacon.io/competitions/official/62540/data/)\n",
        "\n",
        "https://drive.google.com/file/d/116OV5ysXKG3dgJ9V79U_kISFy1-r8CUD/view?usp=sharing"
      ]
    },
    {
      "cell_type": "code",
      "metadata": {
        "id": "N4yksYa2tPFm"
      },
      "source": [
        "system(\"gdown --id 116OV5ysXKG3dgJ9V79U_kISFy1-r8CUD\")\n",
        "data <- read.csv(\"Regular_Season_Batter.csv\",header=T,fileEncoding = \"euc-kr\")"
      ],
      "execution_count": null,
      "outputs": []
    },
    {
      "cell_type": "code",
      "metadata": {
        "id": "H3LmIyhAJ-Rc"
      },
      "source": [
        "head(data)\n",
        "str(data)"
      ],
      "execution_count": null,
      "outputs": []
    }
  ]
}