{
  "nbformat": 4,
  "nbformat_minor": 0,
  "metadata": {
    "colab": {
      "name": "4가지 감정으로 분류하는 모델",
      "provenance": [],
      "collapsed_sections": [],
      "authorship_tag": "ABX9TyMXxgZMm2aLBTCFimfD5hQ8",
      "include_colab_link": true
    },
    "kernelspec": {
      "name": "python3",
      "display_name": "Python 3"
    },
    "language_info": {
      "name": "python"
    }
  },
  "cells": [
    {
      "cell_type": "markdown",
      "metadata": {
        "id": "view-in-github",
        "colab_type": "text"
      },
      "source": [
        "<a href=\"https://colab.research.google.com/github/Son0208/prac_class/blob/main/4%EA%B0%80%EC%A7%80_%EA%B0%90%EC%A0%95%EC%9C%BC%EB%A1%9C_%EB%B6%84%EB%A5%98%ED%95%98%EB%8A%94_%EB%AA%A8%EB%8D%B8.ipynb\" target=\"_parent\"><img src=\"https://colab.research.google.com/assets/colab-badge.svg\" alt=\"Open In Colab\"/></a>"
      ]
    },
    {
      "cell_type": "code",
      "metadata": {
        "colab": {
          "base_uri": "https://localhost:8080/"
        },
        "id": "J_jrPcYzqPmh",
        "outputId": "009a1fc8-ccce-44a6-e965-cb10f4bf2756"
      },
      "source": [
        "!git clone https://github.com/emotion-classifier/emotion_classifier.git"
      ],
      "execution_count": null,
      "outputs": [
        {
          "output_type": "stream",
          "text": [
            "Cloning into 'emotion_classifier'...\n",
            "remote: Enumerating objects: 601, done.\u001b[K\n",
            "remote: Counting objects: 100% (141/141), done.\u001b[K\n",
            "remote: Compressing objects: 100% (75/75), done.\u001b[K\n",
            "remote: Total 601 (delta 93), reused 101 (delta 65), pack-reused 460\u001b[K\n",
            "Receiving objects: 100% (601/601), 76.22 MiB | 27.03 MiB/s, done.\n",
            "Resolving deltas: 100% (263/263), done.\n"
          ],
          "name": "stdout"
        }
      ]
    },
    {
      "cell_type": "markdown",
      "metadata": {
        "id": "E14QYgahtCgS"
      },
      "source": [
        ""
      ]
    },
    {
      "cell_type": "markdown",
      "metadata": {
        "id": "tFQlrSajtHpA"
      },
      "source": [
        "https://thxeksel.tistory.com/entry/4%EA%B0%80%EC%A7%80-%EA%B0%90%EC%A0%95%EA%B8%B0%EC%81%A8-%EC%8A%AC%ED%94%94-%ED%99%94%EB%82%A8-%EC%A4%91%EB%A6%BD%EC%9C%BC%EB%A1%9C-%EB%B6%84%EB%A5%98%ED%95%98%EB%8A%94-%EB%AA%A8%EB%8D%B8"
      ]
    }
  ]
}
