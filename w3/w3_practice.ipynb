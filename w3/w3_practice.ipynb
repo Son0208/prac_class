{
  "nbformat": 4,
  "nbformat_minor": 0,
  "metadata": {
    "colab": {
      "name": "Untitled0.ipynb",
      "provenance": [],
      "collapsed_sections": [],
      "toc_visible": true,
      "authorship_tag": "ABX9TyMuqdcLSxxRXC9mOs8chRel",
      "include_colab_link": true
    },
    "kernelspec": {
      "name": "ir",
      "display_name": "R"
    }
  },
  "cells": [
    {
      "cell_type": "markdown",
      "metadata": {
        "id": "view-in-github",
        "colab_type": "text"
      },
      "source": [
        "<a href=\"https://colab.research.google.com/github/Son0208/prac_class/blob/main/w3_practice.ipynb\" target=\"_parent\"><img src=\"https://colab.research.google.com/assets/colab-badge.svg\" alt=\"Open In Colab\"/></a>"
      ]
    },
    {
      "cell_type": "code",
      "metadata": {
        "id": "KA_G_XpZwnCH"
      },
      "source": [
        "library(tidyverse)"
      ],
      "execution_count": null,
      "outputs": []
    },
    {
      "cell_type": "code",
      "metadata": {
        "id": "DcLNcU33xLgm"
      },
      "source": [
        "install.packages(\"nycflights13\")"
      ],
      "execution_count": null,
      "outputs": []
    },
    {
      "cell_type": "code",
      "metadata": {
        "id": "p_iWdTyDxI1I"
      },
      "source": [
        "library(nycflights13)"
      ],
      "execution_count": 4,
      "outputs": []
    },
    {
      "cell_type": "code",
      "metadata": {
        "id": "rVqFFYcqxeR7"
      },
      "source": [
        "?flights"
      ],
      "execution_count": 5,
      "outputs": []
    },
    {
      "cell_type": "code",
      "metadata": {
        "id": "4UkNmm70yfDn"
      },
      "source": [
        "head(flights)"
      ],
      "execution_count": null,
      "outputs": []
    },
    {
      "cell_type": "markdown",
      "metadata": {
        "id": "c3827hgKzEfP"
      },
      "source": [
        "filter"
      ]
    },
    {
      "cell_type": "code",
      "metadata": {
        "id": "ghZKrldvzJP_"
      },
      "source": [
        "filter(flights, month == 1, day == 1) %>% head()"
      ],
      "execution_count": null,
      "outputs": []
    },
    {
      "cell_type": "code",
      "metadata": {
        "id": "D9dMT9BK0qz_"
      },
      "source": [
        "filter(flights, month == 1, day == 1 & distance > 1000) %>% head()"
      ],
      "execution_count": null,
      "outputs": []
    },
    {
      "cell_type": "code",
      "metadata": {
        "id": "QcJ0hGcI01v3"
      },
      "source": [
        "flights %>% filter(month == 1 & day == 1 & dest %in% c('ORD','LAS')) %>% head()"
      ],
      "execution_count": null,
      "outputs": []
    },
    {
      "cell_type": "markdown",
      "metadata": {
        "id": "isCRnYnXzKmz"
      },
      "source": [
        "arrange"
      ]
    },
    {
      "cell_type": "code",
      "metadata": {
        "id": "AXhQGMsfzR9S",
        "colab": {
          "base_uri": "https://localhost:8080/",
          "height": 493
        },
        "outputId": "790eb6b3-a900-4d7a-ce49-47cc7e8b6ad3"
      },
      "source": [
        "arrange(flights, distance) %>% head()"
      ],
      "execution_count": 30,
      "outputs": [
        {
          "output_type": "display_data",
          "data": {
            "text/plain": [
              "  year month day dep_time sched_dep_time dep_delay arr_time sched_arr_time\n",
              "1 2013 7     27    NA      106            NA         NA      245          \n",
              "2 2013 1      3  2127     2129            -2       2222     2224          \n",
              "3 2013 1      4  1240     1200            40       1333     1306          \n",
              "4 2013 1      4  1829     1615           134       1937     1721          \n",
              "5 2013 1      4  2128     2129            -1       2218     2224          \n",
              "6 2013 1      5  1155     1200            -5       1241     1306          \n",
              "  arr_delay carrier flight tailnum origin dest air_time distance hour minute\n",
              "1  NA       US      1632   NA      EWR    LGA  NA       17        1    6    \n",
              "2  -2       EV      3833   N13989  EWR    PHL  30       80       21   29    \n",
              "3  27       EV      4193   N14972  EWR    PHL  30       80       12    0    \n",
              "4 136       EV      4502   N15983  EWR    PHL  28       80       16   15    \n",
              "5  -6       EV      4645   N27962  EWR    PHL  32       80       21   29    \n",
              "6 -25       EV      4193   N14902  EWR    PHL  29       80       12    0    \n",
              "  time_hour          \n",
              "1 2013-07-27 01:00:00\n",
              "2 2013-01-03 21:00:00\n",
              "3 2013-01-04 12:00:00\n",
              "4 2013-01-04 16:00:00\n",
              "5 2013-01-04 21:00:00\n",
              "6 2013-01-05 12:00:00"
            ],
            "text/latex": "A tibble: 6 × 19\n\\begin{tabular}{lllllllllllllllllll}\n year & month & day & dep\\_time & sched\\_dep\\_time & dep\\_delay & arr\\_time & sched\\_arr\\_time & arr\\_delay & carrier & flight & tailnum & origin & dest & air\\_time & distance & hour & minute & time\\_hour\\\\\n <int> & <int> & <int> & <int> & <int> & <dbl> & <int> & <int> & <dbl> & <chr> & <int> & <chr> & <chr> & <chr> & <dbl> & <dbl> & <dbl> & <dbl> & <dttm>\\\\\n\\hline\n\t 2013 & 7 & 27 &   NA &  106 &  NA &   NA &  245 &  NA & US & 1632 & NA     & EWR & LGA & NA & 17 &  1 &  6 & 2013-07-27 01:00:00\\\\\n\t 2013 & 1 &  3 & 2127 & 2129 &  -2 & 2222 & 2224 &  -2 & EV & 3833 & N13989 & EWR & PHL & 30 & 80 & 21 & 29 & 2013-01-03 21:00:00\\\\\n\t 2013 & 1 &  4 & 1240 & 1200 &  40 & 1333 & 1306 &  27 & EV & 4193 & N14972 & EWR & PHL & 30 & 80 & 12 &  0 & 2013-01-04 12:00:00\\\\\n\t 2013 & 1 &  4 & 1829 & 1615 & 134 & 1937 & 1721 & 136 & EV & 4502 & N15983 & EWR & PHL & 28 & 80 & 16 & 15 & 2013-01-04 16:00:00\\\\\n\t 2013 & 1 &  4 & 2128 & 2129 &  -1 & 2218 & 2224 &  -6 & EV & 4645 & N27962 & EWR & PHL & 32 & 80 & 21 & 29 & 2013-01-04 21:00:00\\\\\n\t 2013 & 1 &  5 & 1155 & 1200 &  -5 & 1241 & 1306 & -25 & EV & 4193 & N14902 & EWR & PHL & 29 & 80 & 12 &  0 & 2013-01-05 12:00:00\\\\\n\\end{tabular}\n",
            "text/markdown": "\nA tibble: 6 × 19\n\n| year &lt;int&gt; | month &lt;int&gt; | day &lt;int&gt; | dep_time &lt;int&gt; | sched_dep_time &lt;int&gt; | dep_delay &lt;dbl&gt; | arr_time &lt;int&gt; | sched_arr_time &lt;int&gt; | arr_delay &lt;dbl&gt; | carrier &lt;chr&gt; | flight &lt;int&gt; | tailnum &lt;chr&gt; | origin &lt;chr&gt; | dest &lt;chr&gt; | air_time &lt;dbl&gt; | distance &lt;dbl&gt; | hour &lt;dbl&gt; | minute &lt;dbl&gt; | time_hour &lt;dttm&gt; |\n|---|---|---|---|---|---|---|---|---|---|---|---|---|---|---|---|---|---|---|\n| 2013 | 7 | 27 |   NA |  106 |  NA |   NA |  245 |  NA | US | 1632 | NA     | EWR | LGA | NA | 17 |  1 |  6 | 2013-07-27 01:00:00 |\n| 2013 | 1 |  3 | 2127 | 2129 |  -2 | 2222 | 2224 |  -2 | EV | 3833 | N13989 | EWR | PHL | 30 | 80 | 21 | 29 | 2013-01-03 21:00:00 |\n| 2013 | 1 |  4 | 1240 | 1200 |  40 | 1333 | 1306 |  27 | EV | 4193 | N14972 | EWR | PHL | 30 | 80 | 12 |  0 | 2013-01-04 12:00:00 |\n| 2013 | 1 |  4 | 1829 | 1615 | 134 | 1937 | 1721 | 136 | EV | 4502 | N15983 | EWR | PHL | 28 | 80 | 16 | 15 | 2013-01-04 16:00:00 |\n| 2013 | 1 |  4 | 2128 | 2129 |  -1 | 2218 | 2224 |  -6 | EV | 4645 | N27962 | EWR | PHL | 32 | 80 | 21 | 29 | 2013-01-04 21:00:00 |\n| 2013 | 1 |  5 | 1155 | 1200 |  -5 | 1241 | 1306 | -25 | EV | 4193 | N14902 | EWR | PHL | 29 | 80 | 12 |  0 | 2013-01-05 12:00:00 |\n\n",
            "text/html": [
              "<table class=\"dataframe\">\n",
              "<caption>A tibble: 6 × 19</caption>\n",
              "<thead>\n",
              "\t<tr><th scope=col>year</th><th scope=col>month</th><th scope=col>day</th><th scope=col>dep_time</th><th scope=col>sched_dep_time</th><th scope=col>dep_delay</th><th scope=col>arr_time</th><th scope=col>sched_arr_time</th><th scope=col>arr_delay</th><th scope=col>carrier</th><th scope=col>flight</th><th scope=col>tailnum</th><th scope=col>origin</th><th scope=col>dest</th><th scope=col>air_time</th><th scope=col>distance</th><th scope=col>hour</th><th scope=col>minute</th><th scope=col>time_hour</th></tr>\n",
              "\t<tr><th scope=col>&lt;int&gt;</th><th scope=col>&lt;int&gt;</th><th scope=col>&lt;int&gt;</th><th scope=col>&lt;int&gt;</th><th scope=col>&lt;int&gt;</th><th scope=col>&lt;dbl&gt;</th><th scope=col>&lt;int&gt;</th><th scope=col>&lt;int&gt;</th><th scope=col>&lt;dbl&gt;</th><th scope=col>&lt;chr&gt;</th><th scope=col>&lt;int&gt;</th><th scope=col>&lt;chr&gt;</th><th scope=col>&lt;chr&gt;</th><th scope=col>&lt;chr&gt;</th><th scope=col>&lt;dbl&gt;</th><th scope=col>&lt;dbl&gt;</th><th scope=col>&lt;dbl&gt;</th><th scope=col>&lt;dbl&gt;</th><th scope=col>&lt;dttm&gt;</th></tr>\n",
              "</thead>\n",
              "<tbody>\n",
              "\t<tr><td>2013</td><td>7</td><td>27</td><td>  NA</td><td> 106</td><td> NA</td><td>  NA</td><td> 245</td><td> NA</td><td>US</td><td>1632</td><td>NA    </td><td>EWR</td><td>LGA</td><td>NA</td><td>17</td><td> 1</td><td> 6</td><td>2013-07-27 01:00:00</td></tr>\n",
              "\t<tr><td>2013</td><td>1</td><td> 3</td><td>2127</td><td>2129</td><td> -2</td><td>2222</td><td>2224</td><td> -2</td><td>EV</td><td>3833</td><td>N13989</td><td>EWR</td><td>PHL</td><td>30</td><td>80</td><td>21</td><td>29</td><td>2013-01-03 21:00:00</td></tr>\n",
              "\t<tr><td>2013</td><td>1</td><td> 4</td><td>1240</td><td>1200</td><td> 40</td><td>1333</td><td>1306</td><td> 27</td><td>EV</td><td>4193</td><td>N14972</td><td>EWR</td><td>PHL</td><td>30</td><td>80</td><td>12</td><td> 0</td><td>2013-01-04 12:00:00</td></tr>\n",
              "\t<tr><td>2013</td><td>1</td><td> 4</td><td>1829</td><td>1615</td><td>134</td><td>1937</td><td>1721</td><td>136</td><td>EV</td><td>4502</td><td>N15983</td><td>EWR</td><td>PHL</td><td>28</td><td>80</td><td>16</td><td>15</td><td>2013-01-04 16:00:00</td></tr>\n",
              "\t<tr><td>2013</td><td>1</td><td> 4</td><td>2128</td><td>2129</td><td> -1</td><td>2218</td><td>2224</td><td> -6</td><td>EV</td><td>4645</td><td>N27962</td><td>EWR</td><td>PHL</td><td>32</td><td>80</td><td>21</td><td>29</td><td>2013-01-04 21:00:00</td></tr>\n",
              "\t<tr><td>2013</td><td>1</td><td> 5</td><td>1155</td><td>1200</td><td> -5</td><td>1241</td><td>1306</td><td>-25</td><td>EV</td><td>4193</td><td>N14902</td><td>EWR</td><td>PHL</td><td>29</td><td>80</td><td>12</td><td> 0</td><td>2013-01-05 12:00:00</td></tr>\n",
              "</tbody>\n",
              "</table>\n"
            ]
          },
          "metadata": {
            "tags": []
          }
        }
      ]
    },
    {
      "cell_type": "code",
      "metadata": {
        "id": "hKYu6D8y3IBf",
        "colab": {
          "base_uri": "https://localhost:8080/",
          "height": 493
        },
        "outputId": "5874db5f-7bac-4652-a408-d6fe9fbd99a8"
      },
      "source": [
        "arrange(flights, year, month, distance) %>% head()"
      ],
      "execution_count": 31,
      "outputs": [
        {
          "output_type": "display_data",
          "data": {
            "text/plain": [
              "  year month day dep_time sched_dep_time dep_delay arr_time sched_arr_time\n",
              "1 2013 1     3   2127     2129            -2       2222     2224          \n",
              "2 2013 1     4   1240     1200            40       1333     1306          \n",
              "3 2013 1     4   1829     1615           134       1937     1721          \n",
              "4 2013 1     4   2128     2129            -1       2218     2224          \n",
              "5 2013 1     5   1155     1200            -5       1241     1306          \n",
              "6 2013 1     6   2125     2129            -4       2224     2224          \n",
              "  arr_delay carrier flight tailnum origin dest air_time distance hour minute\n",
              "1  -2       EV      3833   N13989  EWR    PHL  30       80       21   29    \n",
              "2  27       EV      4193   N14972  EWR    PHL  30       80       12    0    \n",
              "3 136       EV      4502   N15983  EWR    PHL  28       80       16   15    \n",
              "4  -6       EV      4645   N27962  EWR    PHL  32       80       21   29    \n",
              "5 -25       EV      4193   N14902  EWR    PHL  29       80       12    0    \n",
              "6   0       EV      4619   N22909  EWR    PHL  22       80       21   29    \n",
              "  time_hour          \n",
              "1 2013-01-03 21:00:00\n",
              "2 2013-01-04 12:00:00\n",
              "3 2013-01-04 16:00:00\n",
              "4 2013-01-04 21:00:00\n",
              "5 2013-01-05 12:00:00\n",
              "6 2013-01-06 21:00:00"
            ],
            "text/latex": "A tibble: 6 × 19\n\\begin{tabular}{lllllllllllllllllll}\n year & month & day & dep\\_time & sched\\_dep\\_time & dep\\_delay & arr\\_time & sched\\_arr\\_time & arr\\_delay & carrier & flight & tailnum & origin & dest & air\\_time & distance & hour & minute & time\\_hour\\\\\n <int> & <int> & <int> & <int> & <int> & <dbl> & <int> & <int> & <dbl> & <chr> & <int> & <chr> & <chr> & <chr> & <dbl> & <dbl> & <dbl> & <dbl> & <dttm>\\\\\n\\hline\n\t 2013 & 1 & 3 & 2127 & 2129 &  -2 & 2222 & 2224 &  -2 & EV & 3833 & N13989 & EWR & PHL & 30 & 80 & 21 & 29 & 2013-01-03 21:00:00\\\\\n\t 2013 & 1 & 4 & 1240 & 1200 &  40 & 1333 & 1306 &  27 & EV & 4193 & N14972 & EWR & PHL & 30 & 80 & 12 &  0 & 2013-01-04 12:00:00\\\\\n\t 2013 & 1 & 4 & 1829 & 1615 & 134 & 1937 & 1721 & 136 & EV & 4502 & N15983 & EWR & PHL & 28 & 80 & 16 & 15 & 2013-01-04 16:00:00\\\\\n\t 2013 & 1 & 4 & 2128 & 2129 &  -1 & 2218 & 2224 &  -6 & EV & 4645 & N27962 & EWR & PHL & 32 & 80 & 21 & 29 & 2013-01-04 21:00:00\\\\\n\t 2013 & 1 & 5 & 1155 & 1200 &  -5 & 1241 & 1306 & -25 & EV & 4193 & N14902 & EWR & PHL & 29 & 80 & 12 &  0 & 2013-01-05 12:00:00\\\\\n\t 2013 & 1 & 6 & 2125 & 2129 &  -4 & 2224 & 2224 &   0 & EV & 4619 & N22909 & EWR & PHL & 22 & 80 & 21 & 29 & 2013-01-06 21:00:00\\\\\n\\end{tabular}\n",
            "text/markdown": "\nA tibble: 6 × 19\n\n| year &lt;int&gt; | month &lt;int&gt; | day &lt;int&gt; | dep_time &lt;int&gt; | sched_dep_time &lt;int&gt; | dep_delay &lt;dbl&gt; | arr_time &lt;int&gt; | sched_arr_time &lt;int&gt; | arr_delay &lt;dbl&gt; | carrier &lt;chr&gt; | flight &lt;int&gt; | tailnum &lt;chr&gt; | origin &lt;chr&gt; | dest &lt;chr&gt; | air_time &lt;dbl&gt; | distance &lt;dbl&gt; | hour &lt;dbl&gt; | minute &lt;dbl&gt; | time_hour &lt;dttm&gt; |\n|---|---|---|---|---|---|---|---|---|---|---|---|---|---|---|---|---|---|---|\n| 2013 | 1 | 3 | 2127 | 2129 |  -2 | 2222 | 2224 |  -2 | EV | 3833 | N13989 | EWR | PHL | 30 | 80 | 21 | 29 | 2013-01-03 21:00:00 |\n| 2013 | 1 | 4 | 1240 | 1200 |  40 | 1333 | 1306 |  27 | EV | 4193 | N14972 | EWR | PHL | 30 | 80 | 12 |  0 | 2013-01-04 12:00:00 |\n| 2013 | 1 | 4 | 1829 | 1615 | 134 | 1937 | 1721 | 136 | EV | 4502 | N15983 | EWR | PHL | 28 | 80 | 16 | 15 | 2013-01-04 16:00:00 |\n| 2013 | 1 | 4 | 2128 | 2129 |  -1 | 2218 | 2224 |  -6 | EV | 4645 | N27962 | EWR | PHL | 32 | 80 | 21 | 29 | 2013-01-04 21:00:00 |\n| 2013 | 1 | 5 | 1155 | 1200 |  -5 | 1241 | 1306 | -25 | EV | 4193 | N14902 | EWR | PHL | 29 | 80 | 12 |  0 | 2013-01-05 12:00:00 |\n| 2013 | 1 | 6 | 2125 | 2129 |  -4 | 2224 | 2224 |   0 | EV | 4619 | N22909 | EWR | PHL | 22 | 80 | 21 | 29 | 2013-01-06 21:00:00 |\n\n",
            "text/html": [
              "<table class=\"dataframe\">\n",
              "<caption>A tibble: 6 × 19</caption>\n",
              "<thead>\n",
              "\t<tr><th scope=col>year</th><th scope=col>month</th><th scope=col>day</th><th scope=col>dep_time</th><th scope=col>sched_dep_time</th><th scope=col>dep_delay</th><th scope=col>arr_time</th><th scope=col>sched_arr_time</th><th scope=col>arr_delay</th><th scope=col>carrier</th><th scope=col>flight</th><th scope=col>tailnum</th><th scope=col>origin</th><th scope=col>dest</th><th scope=col>air_time</th><th scope=col>distance</th><th scope=col>hour</th><th scope=col>minute</th><th scope=col>time_hour</th></tr>\n",
              "\t<tr><th scope=col>&lt;int&gt;</th><th scope=col>&lt;int&gt;</th><th scope=col>&lt;int&gt;</th><th scope=col>&lt;int&gt;</th><th scope=col>&lt;int&gt;</th><th scope=col>&lt;dbl&gt;</th><th scope=col>&lt;int&gt;</th><th scope=col>&lt;int&gt;</th><th scope=col>&lt;dbl&gt;</th><th scope=col>&lt;chr&gt;</th><th scope=col>&lt;int&gt;</th><th scope=col>&lt;chr&gt;</th><th scope=col>&lt;chr&gt;</th><th scope=col>&lt;chr&gt;</th><th scope=col>&lt;dbl&gt;</th><th scope=col>&lt;dbl&gt;</th><th scope=col>&lt;dbl&gt;</th><th scope=col>&lt;dbl&gt;</th><th scope=col>&lt;dttm&gt;</th></tr>\n",
              "</thead>\n",
              "<tbody>\n",
              "\t<tr><td>2013</td><td>1</td><td>3</td><td>2127</td><td>2129</td><td> -2</td><td>2222</td><td>2224</td><td> -2</td><td>EV</td><td>3833</td><td>N13989</td><td>EWR</td><td>PHL</td><td>30</td><td>80</td><td>21</td><td>29</td><td>2013-01-03 21:00:00</td></tr>\n",
              "\t<tr><td>2013</td><td>1</td><td>4</td><td>1240</td><td>1200</td><td> 40</td><td>1333</td><td>1306</td><td> 27</td><td>EV</td><td>4193</td><td>N14972</td><td>EWR</td><td>PHL</td><td>30</td><td>80</td><td>12</td><td> 0</td><td>2013-01-04 12:00:00</td></tr>\n",
              "\t<tr><td>2013</td><td>1</td><td>4</td><td>1829</td><td>1615</td><td>134</td><td>1937</td><td>1721</td><td>136</td><td>EV</td><td>4502</td><td>N15983</td><td>EWR</td><td>PHL</td><td>28</td><td>80</td><td>16</td><td>15</td><td>2013-01-04 16:00:00</td></tr>\n",
              "\t<tr><td>2013</td><td>1</td><td>4</td><td>2128</td><td>2129</td><td> -1</td><td>2218</td><td>2224</td><td> -6</td><td>EV</td><td>4645</td><td>N27962</td><td>EWR</td><td>PHL</td><td>32</td><td>80</td><td>21</td><td>29</td><td>2013-01-04 21:00:00</td></tr>\n",
              "\t<tr><td>2013</td><td>1</td><td>5</td><td>1155</td><td>1200</td><td> -5</td><td>1241</td><td>1306</td><td>-25</td><td>EV</td><td>4193</td><td>N14902</td><td>EWR</td><td>PHL</td><td>29</td><td>80</td><td>12</td><td> 0</td><td>2013-01-05 12:00:00</td></tr>\n",
              "\t<tr><td>2013</td><td>1</td><td>6</td><td>2125</td><td>2129</td><td> -4</td><td>2224</td><td>2224</td><td>  0</td><td>EV</td><td>4619</td><td>N22909</td><td>EWR</td><td>PHL</td><td>22</td><td>80</td><td>21</td><td>29</td><td>2013-01-06 21:00:00</td></tr>\n",
              "</tbody>\n",
              "</table>\n"
            ]
          },
          "metadata": {
            "tags": []
          }
        }
      ]
    },
    {
      "cell_type": "code",
      "metadata": {
        "colab": {
          "base_uri": "https://localhost:8080/",
          "height": 493
        },
        "id": "-MYBmqFk2y1G",
        "outputId": "4a3b5c4d-4102-4f0a-9c08-3e84142b4c38"
      },
      "source": [
        "arrange(flights, desc(distance)) %>% head()"
      ],
      "execution_count": 32,
      "outputs": [
        {
          "output_type": "display_data",
          "data": {
            "text/plain": [
              "  year month day dep_time sched_dep_time dep_delay arr_time sched_arr_time\n",
              "1 2013 1     1    857     900            -3        1516     1530          \n",
              "2 2013 1     2    909     900             9        1525     1530          \n",
              "3 2013 1     3    914     900            14        1504     1530          \n",
              "4 2013 1     4    900     900             0        1516     1530          \n",
              "5 2013 1     5    858     900            -2        1519     1530          \n",
              "6 2013 1     6   1019     900            79        1558     1530          \n",
              "  arr_delay carrier flight tailnum origin dest air_time distance hour minute\n",
              "1 -14       HA      51     N380HA  JFK    HNL  659      4983     9    0     \n",
              "2  -5       HA      51     N380HA  JFK    HNL  638      4983     9    0     \n",
              "3 -26       HA      51     N380HA  JFK    HNL  616      4983     9    0     \n",
              "4 -14       HA      51     N384HA  JFK    HNL  639      4983     9    0     \n",
              "5 -11       HA      51     N381HA  JFK    HNL  635      4983     9    0     \n",
              "6  28       HA      51     N385HA  JFK    HNL  611      4983     9    0     \n",
              "  time_hour          \n",
              "1 2013-01-01 09:00:00\n",
              "2 2013-01-02 09:00:00\n",
              "3 2013-01-03 09:00:00\n",
              "4 2013-01-04 09:00:00\n",
              "5 2013-01-05 09:00:00\n",
              "6 2013-01-06 09:00:00"
            ],
            "text/latex": "A tibble: 6 × 19\n\\begin{tabular}{lllllllllllllllllll}\n year & month & day & dep\\_time & sched\\_dep\\_time & dep\\_delay & arr\\_time & sched\\_arr\\_time & arr\\_delay & carrier & flight & tailnum & origin & dest & air\\_time & distance & hour & minute & time\\_hour\\\\\n <int> & <int> & <int> & <int> & <int> & <dbl> & <int> & <int> & <dbl> & <chr> & <int> & <chr> & <chr> & <chr> & <dbl> & <dbl> & <dbl> & <dbl> & <dttm>\\\\\n\\hline\n\t 2013 & 1 & 1 &  857 & 900 & -3 & 1516 & 1530 & -14 & HA & 51 & N380HA & JFK & HNL & 659 & 4983 & 9 & 0 & 2013-01-01 09:00:00\\\\\n\t 2013 & 1 & 2 &  909 & 900 &  9 & 1525 & 1530 &  -5 & HA & 51 & N380HA & JFK & HNL & 638 & 4983 & 9 & 0 & 2013-01-02 09:00:00\\\\\n\t 2013 & 1 & 3 &  914 & 900 & 14 & 1504 & 1530 & -26 & HA & 51 & N380HA & JFK & HNL & 616 & 4983 & 9 & 0 & 2013-01-03 09:00:00\\\\\n\t 2013 & 1 & 4 &  900 & 900 &  0 & 1516 & 1530 & -14 & HA & 51 & N384HA & JFK & HNL & 639 & 4983 & 9 & 0 & 2013-01-04 09:00:00\\\\\n\t 2013 & 1 & 5 &  858 & 900 & -2 & 1519 & 1530 & -11 & HA & 51 & N381HA & JFK & HNL & 635 & 4983 & 9 & 0 & 2013-01-05 09:00:00\\\\\n\t 2013 & 1 & 6 & 1019 & 900 & 79 & 1558 & 1530 &  28 & HA & 51 & N385HA & JFK & HNL & 611 & 4983 & 9 & 0 & 2013-01-06 09:00:00\\\\\n\\end{tabular}\n",
            "text/markdown": "\nA tibble: 6 × 19\n\n| year &lt;int&gt; | month &lt;int&gt; | day &lt;int&gt; | dep_time &lt;int&gt; | sched_dep_time &lt;int&gt; | dep_delay &lt;dbl&gt; | arr_time &lt;int&gt; | sched_arr_time &lt;int&gt; | arr_delay &lt;dbl&gt; | carrier &lt;chr&gt; | flight &lt;int&gt; | tailnum &lt;chr&gt; | origin &lt;chr&gt; | dest &lt;chr&gt; | air_time &lt;dbl&gt; | distance &lt;dbl&gt; | hour &lt;dbl&gt; | minute &lt;dbl&gt; | time_hour &lt;dttm&gt; |\n|---|---|---|---|---|---|---|---|---|---|---|---|---|---|---|---|---|---|---|\n| 2013 | 1 | 1 |  857 | 900 | -3 | 1516 | 1530 | -14 | HA | 51 | N380HA | JFK | HNL | 659 | 4983 | 9 | 0 | 2013-01-01 09:00:00 |\n| 2013 | 1 | 2 |  909 | 900 |  9 | 1525 | 1530 |  -5 | HA | 51 | N380HA | JFK | HNL | 638 | 4983 | 9 | 0 | 2013-01-02 09:00:00 |\n| 2013 | 1 | 3 |  914 | 900 | 14 | 1504 | 1530 | -26 | HA | 51 | N380HA | JFK | HNL | 616 | 4983 | 9 | 0 | 2013-01-03 09:00:00 |\n| 2013 | 1 | 4 |  900 | 900 |  0 | 1516 | 1530 | -14 | HA | 51 | N384HA | JFK | HNL | 639 | 4983 | 9 | 0 | 2013-01-04 09:00:00 |\n| 2013 | 1 | 5 |  858 | 900 | -2 | 1519 | 1530 | -11 | HA | 51 | N381HA | JFK | HNL | 635 | 4983 | 9 | 0 | 2013-01-05 09:00:00 |\n| 2013 | 1 | 6 | 1019 | 900 | 79 | 1558 | 1530 |  28 | HA | 51 | N385HA | JFK | HNL | 611 | 4983 | 9 | 0 | 2013-01-06 09:00:00 |\n\n",
            "text/html": [
              "<table class=\"dataframe\">\n",
              "<caption>A tibble: 6 × 19</caption>\n",
              "<thead>\n",
              "\t<tr><th scope=col>year</th><th scope=col>month</th><th scope=col>day</th><th scope=col>dep_time</th><th scope=col>sched_dep_time</th><th scope=col>dep_delay</th><th scope=col>arr_time</th><th scope=col>sched_arr_time</th><th scope=col>arr_delay</th><th scope=col>carrier</th><th scope=col>flight</th><th scope=col>tailnum</th><th scope=col>origin</th><th scope=col>dest</th><th scope=col>air_time</th><th scope=col>distance</th><th scope=col>hour</th><th scope=col>minute</th><th scope=col>time_hour</th></tr>\n",
              "\t<tr><th scope=col>&lt;int&gt;</th><th scope=col>&lt;int&gt;</th><th scope=col>&lt;int&gt;</th><th scope=col>&lt;int&gt;</th><th scope=col>&lt;int&gt;</th><th scope=col>&lt;dbl&gt;</th><th scope=col>&lt;int&gt;</th><th scope=col>&lt;int&gt;</th><th scope=col>&lt;dbl&gt;</th><th scope=col>&lt;chr&gt;</th><th scope=col>&lt;int&gt;</th><th scope=col>&lt;chr&gt;</th><th scope=col>&lt;chr&gt;</th><th scope=col>&lt;chr&gt;</th><th scope=col>&lt;dbl&gt;</th><th scope=col>&lt;dbl&gt;</th><th scope=col>&lt;dbl&gt;</th><th scope=col>&lt;dbl&gt;</th><th scope=col>&lt;dttm&gt;</th></tr>\n",
              "</thead>\n",
              "<tbody>\n",
              "\t<tr><td>2013</td><td>1</td><td>1</td><td> 857</td><td>900</td><td>-3</td><td>1516</td><td>1530</td><td>-14</td><td>HA</td><td>51</td><td>N380HA</td><td>JFK</td><td>HNL</td><td>659</td><td>4983</td><td>9</td><td>0</td><td>2013-01-01 09:00:00</td></tr>\n",
              "\t<tr><td>2013</td><td>1</td><td>2</td><td> 909</td><td>900</td><td> 9</td><td>1525</td><td>1530</td><td> -5</td><td>HA</td><td>51</td><td>N380HA</td><td>JFK</td><td>HNL</td><td>638</td><td>4983</td><td>9</td><td>0</td><td>2013-01-02 09:00:00</td></tr>\n",
              "\t<tr><td>2013</td><td>1</td><td>3</td><td> 914</td><td>900</td><td>14</td><td>1504</td><td>1530</td><td>-26</td><td>HA</td><td>51</td><td>N380HA</td><td>JFK</td><td>HNL</td><td>616</td><td>4983</td><td>9</td><td>0</td><td>2013-01-03 09:00:00</td></tr>\n",
              "\t<tr><td>2013</td><td>1</td><td>4</td><td> 900</td><td>900</td><td> 0</td><td>1516</td><td>1530</td><td>-14</td><td>HA</td><td>51</td><td>N384HA</td><td>JFK</td><td>HNL</td><td>639</td><td>4983</td><td>9</td><td>0</td><td>2013-01-04 09:00:00</td></tr>\n",
              "\t<tr><td>2013</td><td>1</td><td>5</td><td> 858</td><td>900</td><td>-2</td><td>1519</td><td>1530</td><td>-11</td><td>HA</td><td>51</td><td>N381HA</td><td>JFK</td><td>HNL</td><td>635</td><td>4983</td><td>9</td><td>0</td><td>2013-01-05 09:00:00</td></tr>\n",
              "\t<tr><td>2013</td><td>1</td><td>6</td><td>1019</td><td>900</td><td>79</td><td>1558</td><td>1530</td><td> 28</td><td>HA</td><td>51</td><td>N385HA</td><td>JFK</td><td>HNL</td><td>611</td><td>4983</td><td>9</td><td>0</td><td>2013-01-06 09:00:00</td></tr>\n",
              "</tbody>\n",
              "</table>\n"
            ]
          },
          "metadata": {
            "tags": []
          }
        }
      ]
    },
    {
      "cell_type": "markdown",
      "metadata": {
        "id": "Vu9dXN5uzL-I"
      },
      "source": [
        "select"
      ]
    },
    {
      "cell_type": "code",
      "metadata": {
        "id": "rJcGcKrQzSZf"
      },
      "source": [
        "select(flights, year, month, day) %>% head()"
      ],
      "execution_count": null,
      "outputs": []
    },
    {
      "cell_type": "code",
      "metadata": {
        "id": "f9QTmb_OtFqy"
      },
      "source": [
        "select(flights, year:day) %>% head()"
      ],
      "execution_count": null,
      "outputs": []
    },
    {
      "cell_type": "code",
      "metadata": {
        "id": "FTpiauNltGUY"
      },
      "source": [
        "select(flights, -(year:day)) %>% head()"
      ],
      "execution_count": null,
      "outputs": []
    },
    {
      "cell_type": "code",
      "metadata": {
        "id": "ggftHlh2tZpp"
      },
      "source": [
        "select(flights, starts_with(\"arr\")) %>% head()"
      ],
      "execution_count": null,
      "outputs": []
    },
    {
      "cell_type": "code",
      "metadata": {
        "id": "Oom0dUCStZuY"
      },
      "source": [
        "select(flights, contains(\"arr\")) %>% head()"
      ],
      "execution_count": null,
      "outputs": []
    },
    {
      "cell_type": "code",
      "metadata": {
        "id": "CQNUfh-Otc5Z"
      },
      "source": [
        "select(flights, time_hour, air_time, everything()) %>% head()"
      ],
      "execution_count": null,
      "outputs": []
    },
    {
      "cell_type": "markdown",
      "metadata": {
        "id": "bjd7WYSTzMOW"
      },
      "source": [
        "mutate"
      ]
    },
    {
      "cell_type": "code",
      "metadata": {
        "id": "ugyVxqkJzSxn"
      },
      "source": [
        "flights %>% select(year:day, ends_with(\"delay\"), distance, air_time) %>% head() "
      ],
      "execution_count": null,
      "outputs": []
    },
    {
      "cell_type": "code",
      "metadata": {
        "id": "AI1Lj4dptsIS"
      },
      "source": [
        "flights %>% \n",
        "    select(year:day, ends_with(\"delay\"), distance, air_time) %>% \n",
        "    mutate(gain = dep_delay - arr_delay,\n",
        "              hours = air_time / 60,\n",
        "              gain_per_hour = gain / hours) %>% head()"
      ],
      "execution_count": null,
      "outputs": []
    },
    {
      "cell_type": "markdown",
      "metadata": {
        "id": "72HQmu3czMXH"
      },
      "source": [
        "group by , summarise"
      ]
    },
    {
      "cell_type": "code",
      "metadata": {
        "id": "9A11b-MCzTo_"
      },
      "source": [
        "flights %>% group_by(year, month, day) %>% \n",
        "summarise(delay = mean(dep_delay, na.rm = TRUE)) %>% head()"
      ],
      "execution_count": null,
      "outputs": []
    },
    {
      "cell_type": "code",
      "metadata": {
        "colab": {
          "base_uri": "https://localhost:8080/",
          "height": 182
        },
        "id": "q1jvQGnot3vc",
        "outputId": "7007737a-aad4-48b1-d704-9c29ef3c8fd5"
      },
      "source": [
        "flights %>% group_by(origin) %>% \n",
        "summarise(delay = mean(dep_delay, na.rm = TRUE), sd_delay = sd(dep_delay, na.rm = TRUE)) %>% head()"
      ],
      "execution_count": 42,
      "outputs": [
        {
          "output_type": "display_data",
          "data": {
            "text/plain": [
              "  origin delay    sd_delay\n",
              "1 EWR    15.10795 41.32370\n",
              "2 JFK    12.11216 39.03507\n",
              "3 LGA    10.34688 39.99302"
            ],
            "text/latex": "A tibble: 3 × 3\n\\begin{tabular}{lll}\n origin & delay & sd\\_delay\\\\\n <chr> & <dbl> & <dbl>\\\\\n\\hline\n\t EWR & 15.10795 & 41.32370\\\\\n\t JFK & 12.11216 & 39.03507\\\\\n\t LGA & 10.34688 & 39.99302\\\\\n\\end{tabular}\n",
            "text/markdown": "\nA tibble: 3 × 3\n\n| origin &lt;chr&gt; | delay &lt;dbl&gt; | sd_delay &lt;dbl&gt; |\n|---|---|---|\n| EWR | 15.10795 | 41.32370 |\n| JFK | 12.11216 | 39.03507 |\n| LGA | 10.34688 | 39.99302 |\n\n",
            "text/html": [
              "<table class=\"dataframe\">\n",
              "<caption>A tibble: 3 × 3</caption>\n",
              "<thead>\n",
              "\t<tr><th scope=col>origin</th><th scope=col>delay</th><th scope=col>sd_delay</th></tr>\n",
              "\t<tr><th scope=col>&lt;chr&gt;</th><th scope=col>&lt;dbl&gt;</th><th scope=col>&lt;dbl&gt;</th></tr>\n",
              "</thead>\n",
              "<tbody>\n",
              "\t<tr><td>EWR</td><td>15.10795</td><td>41.32370</td></tr>\n",
              "\t<tr><td>JFK</td><td>12.11216</td><td>39.03507</td></tr>\n",
              "\t<tr><td>LGA</td><td>10.34688</td><td>39.99302</td></tr>\n",
              "</tbody>\n",
              "</table>\n"
            ]
          },
          "metadata": {
            "tags": []
          }
        }
      ]
    },
    {
      "cell_type": "code",
      "metadata": {
        "colab": {
          "base_uri": "https://localhost:8080/",
          "height": 271
        },
        "id": "3s0wGbTYt32g",
        "outputId": "3d84f6ce-0100-4165-d6f4-be404271c170"
      },
      "source": [
        "flights %>% group_by(dest) %>% \n",
        "   summarise(count = n(), dist = mean(distance, na.rm = TRUE), delay = mean(arr_delay, na.rm = TRUE) ) %>%\n",
        "   filter(count > 20, dest != \"HNL\") %>% head()\n"
      ],
      "execution_count": 61,
      "outputs": [
        {
          "output_type": "display_data",
          "data": {
            "text/plain": [
              "  dest count dist      delay    \n",
              "1 ABQ    254 1826.0000  4.381890\n",
              "2 ACK    265  199.0000  4.852273\n",
              "3 ALB    439  143.0000 14.397129\n",
              "4 ATL  17215  757.1082 11.300113\n",
              "5 AUS   2439 1514.2530  6.019909\n",
              "6 AVL    275  583.5818  8.003831"
            ],
            "text/latex": "A tibble: 6 × 4\n\\begin{tabular}{llll}\n dest & count & dist & delay\\\\\n <chr> & <int> & <dbl> & <dbl>\\\\\n\\hline\n\t ABQ &   254 & 1826.0000 &  4.381890\\\\\n\t ACK &   265 &  199.0000 &  4.852273\\\\\n\t ALB &   439 &  143.0000 & 14.397129\\\\\n\t ATL & 17215 &  757.1082 & 11.300113\\\\\n\t AUS &  2439 & 1514.2530 &  6.019909\\\\\n\t AVL &   275 &  583.5818 &  8.003831\\\\\n\\end{tabular}\n",
            "text/markdown": "\nA tibble: 6 × 4\n\n| dest &lt;chr&gt; | count &lt;int&gt; | dist &lt;dbl&gt; | delay &lt;dbl&gt; |\n|---|---|---|---|\n| ABQ |   254 | 1826.0000 |  4.381890 |\n| ACK |   265 |  199.0000 |  4.852273 |\n| ALB |   439 |  143.0000 | 14.397129 |\n| ATL | 17215 |  757.1082 | 11.300113 |\n| AUS |  2439 | 1514.2530 |  6.019909 |\n| AVL |   275 |  583.5818 |  8.003831 |\n\n",
            "text/html": [
              "<table class=\"dataframe\">\n",
              "<caption>A tibble: 6 × 4</caption>\n",
              "<thead>\n",
              "\t<tr><th scope=col>dest</th><th scope=col>count</th><th scope=col>dist</th><th scope=col>delay</th></tr>\n",
              "\t<tr><th scope=col>&lt;chr&gt;</th><th scope=col>&lt;int&gt;</th><th scope=col>&lt;dbl&gt;</th><th scope=col>&lt;dbl&gt;</th></tr>\n",
              "</thead>\n",
              "<tbody>\n",
              "\t<tr><td>ABQ</td><td>  254</td><td>1826.0000</td><td> 4.381890</td></tr>\n",
              "\t<tr><td>ACK</td><td>  265</td><td> 199.0000</td><td> 4.852273</td></tr>\n",
              "\t<tr><td>ALB</td><td>  439</td><td> 143.0000</td><td>14.397129</td></tr>\n",
              "\t<tr><td>ATL</td><td>17215</td><td> 757.1082</td><td>11.300113</td></tr>\n",
              "\t<tr><td>AUS</td><td> 2439</td><td>1514.2530</td><td> 6.019909</td></tr>\n",
              "\t<tr><td>AVL</td><td>  275</td><td> 583.5818</td><td> 8.003831</td></tr>\n",
              "</tbody>\n",
              "</table>\n"
            ]
          },
          "metadata": {
            "tags": []
          }
        }
      ]
    },
    {
      "cell_type": "code",
      "metadata": {
        "id": "ZEpTsT_Mcko2"
      },
      "source": [
        "flights %>% group_by(month) %>% summarise(count = n(), dist = mean(distance, na.rm = TRUE)) "
      ],
      "execution_count": null,
      "outputs": []
    },
    {
      "cell_type": "markdown",
      "metadata": {
        "id": "DzJfgSf9zMiF"
      },
      "source": [
        "ggplot"
      ]
    },
    {
      "cell_type": "markdown",
      "metadata": {
        "id": "KWdf6gDWLX1a"
      },
      "source": [
        "distance change in month"
      ]
    },
    {
      "cell_type": "code",
      "metadata": {
        "colab": {
          "base_uri": "https://localhost:8080/",
          "height": 437
        },
        "id": "z4_Ma2uNY8Oo",
        "outputId": "198ad75a-de44-494d-bc13-98778c7c1011"
      },
      "source": [
        "flights %>% group_by(month) %>% summarise(count = n(), dist = mean(distance, na.rm = TRUE)) %>% \n",
        "ggplot(mapping = aes(x = month, y = dist)) +\n",
        "scale_x_continuous(breaks = c(1,2,3,4,5,6,7,8,9,10,11,12)) + \n",
        "geom_point(aes(size = count)) +\n",
        "geom_line()"
      ],
      "execution_count": 117,
      "outputs": [
        {
          "output_type": "display_data",
          "data": {
            "image/png": "[encoded data removed]",
            "text/plain": [
              "plot without title"
            ]
          },
          "metadata": {
            "tags": [],
            "image/png": {
              "width": 420,
              "height": 420
            }
          }
        }
      ]
    }
  ]
}
